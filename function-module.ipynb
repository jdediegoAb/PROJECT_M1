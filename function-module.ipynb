{
 "cells": [
  {
   "cell_type": "code",
   "execution_count": null,
   "metadata": {},
   "outputs": [],
   "source": [
    "from shapely.geometry import Point\n",
    "import geopandas as gpd   # conda install -c conda-forge geopandas\n",
    "\n",
    "def to_mercator(lat, long):\n",
    "    # transform latitude/longitude data in degrees to pseudo-mercator coordinates in metres\n",
    "    c = gpd.GeoSeries([Point(lat, long)], crs=4326)\n",
    "    c = c.to_crs(3857)\n",
    "    return c"
   ]
  },
  {
   "cell_type": "code",
   "execution_count": null,
   "metadata": {},
   "outputs": [],
   "source": [
    "def distance_meters(lat_start, long_start, lat_finish, long_finish):\n",
    "    # return the distance in metres between to latitude/longitude pair point in degrees (i.e.: 40.392436 / -3.6994487)\n",
    "    start = to_mercator(lat_start, long_start)\n",
    "    finish = to_mercator(lat_finish, long_finish)\n",
    "    return start.distance(finish)"
   ]
  }
 ],
 "metadata": {
  "language_info": {
   "name": "python"
  },
  "orig_nbformat": 4
 },
 "nbformat": 4,
 "nbformat_minor": 2
}

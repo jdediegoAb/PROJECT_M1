{
 "cells": [
  {
   "cell_type": "code",
   "execution_count": 109,
   "id": "97ec3568",
   "metadata": {},
   "outputs": [],
   "source": [
    "import sqlalchemy\n",
    "from sqlalchemy import create_engine\n",
    "from sqlalchemy import inspect\n",
    "import pandas as pd\n",
    "import requests\n",
    "import fuzzywuzzy\n",
    "from fuzzywuzzy import fuzz,process\n",
    "\n"
   ]
  },
  {
   "cell_type": "code",
   "execution_count": 4,
   "id": "b1c46dee",
   "metadata": {},
   "outputs": [],
   "source": [
    "#conection_string='mysql+pymysql://ironhack_user:%Vq=c>G5@173.201.189.217/BiciMAD'\n",
    "#engine = create_engine(conection_string)"
   ]
  },
  {
   "cell_type": "code",
   "execution_count": 5,
   "id": "3e36a29b",
   "metadata": {},
   "outputs": [],
   "source": [
    "#inspector = inspect(engine)\n",
    "#inspector.get_table_names()"
   ]
  },
  {
   "cell_type": "code",
   "execution_count": 110,
   "id": "688cf364",
   "metadata": {},
   "outputs": [],
   "source": [
    "#df_stations = pd.read_sql_query(\"SELECT * FROM bicimad_stations\", engine)\n",
    "df_stations=pd.read_csv('./bicimad_stations_202207091252.csv')"
   ]
  },
  {
   "cell_type": "code",
   "execution_count": 111,
   "id": "aad0fe47",
   "metadata": {},
   "outputs": [],
   "source": [
    "#coordinates=df_stations[\"geometry.coordinates\"][0].strip('][').split(',')\n",
    "df_stations[[\"longitude\",\"latitude\"]]=df_stations[\"geometry.coordinates\"].str.split(\",\",expand=True)\n",
    "df_stations['longitude'] = df_stations['longitude'].str.replace('[','',regex=True)\n",
    "df_stations[\"latitude\"]=df_stations['latitude'].str.replace(']','',regex=True)\n",
    "df_stations['latitude'] = pd.to_numeric(df_stations['latitude'])\n",
    "df_stations['longitude'] = pd.to_numeric(df_stations['longitude'])"
   ]
  },
  {
   "cell_type": "code",
   "execution_count": 112,
   "id": "67203b72",
   "metadata": {},
   "outputs": [],
   "source": [
    "url='/catalogo/208844-0-monumentos-edificios.json'\n",
    "end_point='https://datos.madrid.es/egob'\n",
    "response = requests.get(end_point+url)\n",
    "mon_json = response.json()"
   ]
  },
  {
   "cell_type": "code",
   "execution_count": 113,
   "id": "3e4dee4c",
   "metadata": {},
   "outputs": [],
   "source": [
    "mon_json['@graph']\n",
    "#la key donde esta toda la info es @graph\n",
    "df_monuments = pd.DataFrame(mon_json['@graph'])"
   ]
  },
  {
   "cell_type": "code",
   "execution_count": 114,
   "id": "1bb4fb66",
   "metadata": {},
   "outputs": [],
   "source": [
    "df_monuments = pd.json_normalize(mon_json['@graph']).dropna(subset=['location.latitude','location.longitude'])"
   ]
  },
  {
   "cell_type": "code",
   "execution_count": 14,
   "id": "62da34a1",
   "metadata": {},
   "outputs": [],
   "source": [
    "from shapely.geometry import Point\n",
    "import geopandas as gpd   # conda install -c conda-forge geopandas\n",
    "\n",
    "def to_mercator(lat, long):\n",
    "    # transform latitude/longitude data in degrees to pseudo-mercator coordinates in metres\n",
    "    c = gpd.GeoSeries([Point(lat, long)], crs=4326)\n",
    "    c = c.to_crs(3857)\n",
    "    return c\n",
    "\n"
   ]
  },
  {
   "cell_type": "code",
   "execution_count": 15,
   "id": "498479d3",
   "metadata": {},
   "outputs": [],
   "source": [
    "def distance_meters(lat_start, long_start, lat_finish, long_finish):\n",
    "    # return the distance in metres between to latitude/longitude pair point in degrees (i.e.: 40.392436 / -3.6994487)\n",
    "    start = to_mercator(lat_start, long_start)\n",
    "    finish = to_mercator(lat_finish, long_finish)\n",
    "    return start.distance(finish)"
   ]
  },
  {
   "cell_type": "markdown",
   "id": "3cc61993",
   "metadata": {},
   "source": [
    "## ONE MONUMENT"
   ]
  },
  {
   "cell_type": "code",
   "execution_count": 116,
   "id": "05b3eab5",
   "metadata": {},
   "outputs": [
    {
     "name": "stdout",
     "output_type": "stream",
     "text": [
      "Monument name: banco\n"
     ]
    }
   ],
   "source": [
    "monument=input('Monument name: ')\n",
    "match_monument = process.extractOne(monument,df_monuments['title'], score_cutoff=80)\n",
    "z = df_monuments.loc[df_monuments['title']== match_monument[0]]\n",
    "n=z.iloc[0]['title']\n",
    "select_monument = df_monuments.loc[df_monuments['title']== n].reset_index(drop=True)"
   ]
  },
  {
   "cell_type": "code",
   "execution_count": 122,
   "id": "fe2c7164",
   "metadata": {},
   "outputs": [],
   "source": [
    "df_stations['distance']=df_stations.apply(lambda x: distance_meters(x['latitude'], \n",
    "                                                                    x['longitude'],\n",
    "                                                                    select_monument[('location.latitude')],\n",
    "                                                                    select_monument[('location.longitude')]),axis=1)\n",
    "df_stations_1=df_stations[df_stations['distance']==df_stations['distance'].min()].reset_index(drop=True)"
   ]
  },
  {
   "cell_type": "code",
   "execution_count": 123,
   "id": "3032365e",
   "metadata": {},
   "outputs": [
    {
     "data": {
      "text/plain": [
       "',title,address.street-address,name,address\\n0,Banco Bilbao Vizcaya Argentaria,Calle ALCALÁ 16,28 - Sevilla,Calle Alcalá nº 27\\n'"
      ]
     },
     "execution_count": 123,
     "metadata": {},
     "output_type": "execute_result"
    }
   ],
   "source": [
    "df_output=select_monument[['title','address.street-address']].join(df_stations_1[['name','address']]).to_csv()\n",
    "df_output"
   ]
  },
  {
   "cell_type": "markdown",
   "id": "e800cc75",
   "metadata": {},
   "source": [
    "## ALL MONUMENTS"
   ]
  },
  {
   "cell_type": "code",
   "execution_count": 120,
   "id": "013428e3",
   "metadata": {},
   "outputs": [],
   "source": [
    "#ALL_monuments=df_monuments[:6][['title','address.street-address','location.latitude','location.longitude']].reset_index(drop=True)\n",
    "all_monuments = df_monuments[['title','address.street-address','location.latitude','location.longitude']].reset_index(drop=True)"
   ]
  },
  {
   "cell_type": "code",
   "execution_count": 121,
   "id": "55162b88",
   "metadata": {},
   "outputs": [],
   "source": [
    "all_monumentsf=[]\n",
    "for index, row in all_monuments.iterrows():\n",
    "    df_stations['distance']=df_stations.apply(lambda x: distance_meters(x['latitude'], \n",
    "                                                                    x['longitude'],\n",
    "                                                                    row[('location.latitude')],\n",
    "                                                                    row[('location.longitude')]),axis=1)\n",
    "    df1=df_stations[df_stations['distance']==df_stations['distance'].min()].reset_index(drop=True)\n",
    "    df1['title']=row['title']\n",
    "    #display(df1)\n",
    "    all_monumentsf.append(df1)\n",
    "df_final = pd.concat(all_monumentsf)"
   ]
  },
  {
   "cell_type": "code",
   "execution_count": 154,
   "id": "c69827a9",
   "metadata": {},
   "outputs": [],
   "source": [
    "df_output2= pd.merge(all_monuments[['title','address.street-address']], df_final[['name','address','title','distance']], on ='title').to_csv('./monument_list.csv')\n",
    "df_output2"
   ]
  },
  {
   "cell_type": "code",
   "execution_count": 159,
   "id": "13db6f11",
   "metadata": {},
   "outputs": [],
   "source": [
    "#EXTRA\n",
    "import folium\n",
    "df_map = df_monuments\n",
    "m = folium.Map(location=[40.43,-3.7], tiles=\"OpenStreetMap\", zoom_start=13)\n",
    "m\n",
    "##The m will return a map of the world that is zoomable.\n",
    "##To add the markers to this:\n",
    "for i in range(0,len(df_map)):\n",
    "    folium.Marker(\n",
    "      location=[df_map.iloc[i]['location.latitude'], df_map.iloc[i]['location.longitude']],\n",
    "      popup=df_map.iloc[i]['title']).add_to(m)\n",
    "m.save(\"monuments.html\")\n",
    "\n"
   ]
  },
  {
   "cell_type": "code",
   "execution_count": 160,
   "id": "28ed8824",
   "metadata": {},
   "outputs": [
    {
     "name": "stdout",
     "output_type": "stream",
     "text": [
      "email sent\n"
     ]
    },
    {
     "data": {
      "text/plain": [
       "True"
      ]
     },
     "execution_count": 160,
     "metadata": {},
     "output_type": "execute_result"
    }
   ],
   "source": [
    "\n",
    "import smtplib\n",
    "from email.mime.text import MIMEText\n",
    "from email.mime.multipart import MIMEMultipart\n",
    "from email.mime.base import MIMEBase\n",
    "from email import encoders\n",
    "import os.path\n",
    "\n",
    "def send_email(email_recipient, email_subject, email_message, attachment_location = ''):\n",
    "    \n",
    "    email_sender = \"j.dediego.abad@gmail.com\"\n",
    "    msg = MIMEMultipart()\n",
    "    msg[\"From\"] = email_sender\n",
    "    msg[\"To\"] = 'j.dediego.abad@gmail.com'\n",
    "    msg[\"Subject\"] = 'Monuments list'\n",
    "    msg.attach(MIMEText(email_message, \"plain\"))\n",
    "    \n",
    "    if attachment_location != '':\n",
    "        filename = os.path.basename(attachment_location)\n",
    "        attachment = open(attachment_location, \"rb\")\n",
    "        part = MIMEBase('application', 'octet-stream')\n",
    "        part.set_payload(attachment.read())\n",
    "        encoders.encode_base64(part)\n",
    "        part.add_header('Content-Disposition', \n",
    "                        \"attachment; filename= %s\" % filename)\n",
    "        msg.attach(part)\n",
    "    try:\n",
    "        server = smtplib.SMTP('smtp.gmail.com', 587)\n",
    "        server.ehlo()\n",
    "        server.starttls()\n",
    "        server.login('j.dediego.abad@gmail.com', 'jflrrgbeswffddyw')\n",
    "        text = msg.as_string()\n",
    "        html='/.monuments.html'\n",
    "        server.sendmail(email_sender, email_recipient, text)\n",
    "        print('email sent')\n",
    "        server.quit()\n",
    "    except:\n",
    "        print(\"SMPT server connection error\")\n",
    "    return True\n",
    "\n",
    "\n",
    "\n",
    "send_email('j.dediego.abad@gmail.com',\n",
    "           'Test',\n",
    "           'MADnumentos',\n",
    "           './monument_list.csv')"
   ]
  },
  {
   "cell_type": "code",
   "execution_count": null,
   "id": "d5896722",
   "metadata": {},
   "outputs": [],
   "source": []
  }
 ],
 "metadata": {
  "interpreter": {
   "hash": "5e80755c78bf14ae5c8c43e42a6760e2cd8311bcd4a8ac6eaf709700ba3e25b3"
  },
  "kernelspec": {
   "display_name": "Python [conda env:m1-ih]",
   "language": "python",
   "name": "conda-env-m1-ih-py"
  },
  "language_info": {
   "codemirror_mode": {
    "name": "ipython",
    "version": 3
   },
   "file_extension": ".py",
   "mimetype": "text/x-python",
   "name": "python",
   "nbconvert_exporter": "python",
   "pygments_lexer": "ipython3",
   "version": "3.9.13"
  }
 },
 "nbformat": 4,
 "nbformat_minor": 5
}
